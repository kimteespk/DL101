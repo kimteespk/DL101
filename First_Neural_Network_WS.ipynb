{
 "cells": [
  {
   "cell_type": "code",
   "execution_count": 1,
   "metadata": {},
   "outputs": [],
   "source": [
    "import pandas as pd\n",
    "import yfinance as yf\n",
    "import matplotlib.pyplot as plt"
   ]
  },
  {
   "cell_type": "code",
   "execution_count": 2,
   "metadata": {},
   "outputs": [],
   "source": [
    "start = '2020-01-01'\n",
    "end = '2022-01-01'"
   ]
  },
  {
   "cell_type": "code",
   "execution_count": 3,
   "metadata": {},
   "outputs": [
    {
     "name": "stdout",
     "output_type": "stream",
     "text": [
      "[*********************100%***********************]  6 of 6 completed\n"
     ]
    }
   ],
   "source": [
    "data = yf.download(['BTC-USD', 'BNB-USD', 'XRP-USD', 'ETH-USD', 'ADA-USD', 'DOGE-USD'], start= start, end= end)"
   ]
  },
  {
   "cell_type": "code",
   "execution_count": 4,
   "metadata": {},
   "outputs": [],
   "source": [
    "df = data.Close.copy()"
   ]
  },
  {
   "cell_type": "code",
   "execution_count": 5,
   "metadata": {},
   "outputs": [],
   "source": [
    "df = df[['ADA-USD', 'BNB-USD', 'BTC-USD', 'XRP-USD', 'DOGE-USD', 'ETH-USD']]"
   ]
  },
  {
   "cell_type": "code",
   "execution_count": 6,
   "metadata": {},
   "outputs": [],
   "source": [
    "df = df.pct_change()"
   ]
  },
  {
   "cell_type": "code",
   "execution_count": 7,
   "metadata": {},
   "outputs": [
    {
     "data": {
      "text/html": [
       "<div>\n",
       "<style scoped>\n",
       "    .dataframe tbody tr th:only-of-type {\n",
       "        vertical-align: middle;\n",
       "    }\n",
       "\n",
       "    .dataframe tbody tr th {\n",
       "        vertical-align: top;\n",
       "    }\n",
       "\n",
       "    .dataframe thead th {\n",
       "        text-align: right;\n",
       "    }\n",
       "</style>\n",
       "<table border=\"1\" class=\"dataframe\">\n",
       "  <thead>\n",
       "    <tr style=\"text-align: right;\">\n",
       "      <th></th>\n",
       "      <th>ADA-USD</th>\n",
       "      <th>BNB-USD</th>\n",
       "      <th>BTC-USD</th>\n",
       "      <th>XRP-USD</th>\n",
       "      <th>DOGE-USD</th>\n",
       "      <th>ETH-USD</th>\n",
       "    </tr>\n",
       "    <tr>\n",
       "      <th>Date</th>\n",
       "      <th></th>\n",
       "      <th></th>\n",
       "      <th></th>\n",
       "      <th></th>\n",
       "      <th></th>\n",
       "      <th></th>\n",
       "    </tr>\n",
       "  </thead>\n",
       "  <tbody>\n",
       "    <tr>\n",
       "      <th>2019-12-31</th>\n",
       "      <td>NaN</td>\n",
       "      <td>NaN</td>\n",
       "      <td>NaN</td>\n",
       "      <td>NaN</td>\n",
       "      <td>NaN</td>\n",
       "      <td>NaN</td>\n",
       "    </tr>\n",
       "    <tr>\n",
       "      <th>2020-01-01</th>\n",
       "      <td>0.018663</td>\n",
       "      <td>-0.002809</td>\n",
       "      <td>0.000914</td>\n",
       "      <td>-0.001177</td>\n",
       "      <td>0.002466</td>\n",
       "      <td>0.009190</td>\n",
       "    </tr>\n",
       "    <tr>\n",
       "      <th>2020-01-02</th>\n",
       "      <td>-0.021131</td>\n",
       "      <td>-0.048365</td>\n",
       "      <td>-0.029819</td>\n",
       "      <td>-0.024000</td>\n",
       "      <td>-0.011805</td>\n",
       "      <td>-0.025931</td>\n",
       "    </tr>\n",
       "    <tr>\n",
       "      <th>2020-01-03</th>\n",
       "      <td>0.043632</td>\n",
       "      <td>0.048625</td>\n",
       "      <td>0.051452</td>\n",
       "      <td>0.029132</td>\n",
       "      <td>0.067695</td>\n",
       "      <td>0.053069</td>\n",
       "    </tr>\n",
       "    <tr>\n",
       "      <th>2020-01-04</th>\n",
       "      <td>0.012142</td>\n",
       "      <td>0.016915</td>\n",
       "      <td>0.008955</td>\n",
       "      <td>0.004310</td>\n",
       "      <td>0.044755</td>\n",
       "      <td>0.006690</td>\n",
       "    </tr>\n",
       "    <tr>\n",
       "      <th>...</th>\n",
       "      <td>...</td>\n",
       "      <td>...</td>\n",
       "      <td>...</td>\n",
       "      <td>...</td>\n",
       "      <td>...</td>\n",
       "      <td>...</td>\n",
       "    </tr>\n",
       "    <tr>\n",
       "      <th>2021-12-27</th>\n",
       "      <td>0.039056</td>\n",
       "      <td>0.028604</td>\n",
       "      <td>-0.003328</td>\n",
       "      <td>0.005432</td>\n",
       "      <td>-0.012183</td>\n",
       "      <td>-0.007322</td>\n",
       "    </tr>\n",
       "    <tr>\n",
       "      <th>2021-12-28</th>\n",
       "      <td>-0.073136</td>\n",
       "      <td>-0.049256</td>\n",
       "      <td>-0.060259</td>\n",
       "      <td>-0.079060</td>\n",
       "      <td>-0.072390</td>\n",
       "      <td>-0.058613</td>\n",
       "    </tr>\n",
       "    <tr>\n",
       "      <th>2021-12-29</th>\n",
       "      <td>-0.050953</td>\n",
       "      <td>-0.039122</td>\n",
       "      <td>-0.024042</td>\n",
       "      <td>-0.042494</td>\n",
       "      <td>-0.036481</td>\n",
       "      <td>-0.045348</td>\n",
       "    </tr>\n",
       "    <tr>\n",
       "      <th>2021-12-30</th>\n",
       "      <td>0.022243</td>\n",
       "      <td>0.009550</td>\n",
       "      <td>0.015791</td>\n",
       "      <td>0.028082</td>\n",
       "      <td>0.021149</td>\n",
       "      <td>0.023514</td>\n",
       "    </tr>\n",
       "    <tr>\n",
       "      <th>2021-12-31</th>\n",
       "      <td>-0.036905</td>\n",
       "      <td>-0.013878</td>\n",
       "      <td>-0.018476</td>\n",
       "      <td>-0.010107</td>\n",
       "      <td>-0.004769</td>\n",
       "      <td>-0.008406</td>\n",
       "    </tr>\n",
       "  </tbody>\n",
       "</table>\n",
       "<p>732 rows × 6 columns</p>\n",
       "</div>"
      ],
      "text/plain": [
       "             ADA-USD   BNB-USD   BTC-USD   XRP-USD  DOGE-USD   ETH-USD\n",
       "Date                                                                  \n",
       "2019-12-31       NaN       NaN       NaN       NaN       NaN       NaN\n",
       "2020-01-01  0.018663 -0.002809  0.000914 -0.001177  0.002466  0.009190\n",
       "2020-01-02 -0.021131 -0.048365 -0.029819 -0.024000 -0.011805 -0.025931\n",
       "2020-01-03  0.043632  0.048625  0.051452  0.029132  0.067695  0.053069\n",
       "2020-01-04  0.012142  0.016915  0.008955  0.004310  0.044755  0.006690\n",
       "...              ...       ...       ...       ...       ...       ...\n",
       "2021-12-27  0.039056  0.028604 -0.003328  0.005432 -0.012183 -0.007322\n",
       "2021-12-28 -0.073136 -0.049256 -0.060259 -0.079060 -0.072390 -0.058613\n",
       "2021-12-29 -0.050953 -0.039122 -0.024042 -0.042494 -0.036481 -0.045348\n",
       "2021-12-30  0.022243  0.009550  0.015791  0.028082  0.021149  0.023514\n",
       "2021-12-31 -0.036905 -0.013878 -0.018476 -0.010107 -0.004769 -0.008406\n",
       "\n",
       "[732 rows x 6 columns]"
      ]
     },
     "execution_count": 7,
     "metadata": {},
     "output_type": "execute_result"
    }
   ],
   "source": [
    "df"
   ]
  },
  {
   "cell_type": "code",
   "execution_count": 8,
   "metadata": {},
   "outputs": [],
   "source": [
    "df = df.dropna(thresh=2) # treshold =2 คือถ้ามีข้อมูลไม่ถึง2 ให้ดรอปเลย"
   ]
  },
  {
   "cell_type": "code",
   "execution_count": 9,
   "metadata": {},
   "outputs": [],
   "source": [
    "X = df.iloc[:, :-1]\n",
    "y = df.iloc[:, -1]"
   ]
  },
  {
   "cell_type": "code",
   "execution_count": 10,
   "metadata": {},
   "outputs": [],
   "source": [
    "from sklearn.model_selection import train_test_split\n",
    "from keras.models import Sequential\n",
    "from keras.layers import Dense"
   ]
  },
  {
   "cell_type": "code",
   "execution_count": 11,
   "metadata": {},
   "outputs": [],
   "source": [
    "X_train, X_test, y_train, y_test = train_test_split(X, y, test_size=0.25, random_state=0)"
   ]
  },
  {
   "cell_type": "code",
   "execution_count": 12,
   "metadata": {},
   "outputs": [],
   "source": [
    "# initiate model\n",
    "model = Sequential()\n",
    "model.add(Dense(1, activation= None, input_dim= 5))\n",
    "model.add(Dense(1))\n",
    "    # compile model\n",
    "#model.compile(loss='mean_squared_error')\n",
    "#model.summary()\n"
   ]
  },
  {
   "cell_type": "code",
   "execution_count": 13,
   "metadata": {},
   "outputs": [
    {
     "name": "stdout",
     "output_type": "stream",
     "text": [
      "Model: \"sequential\"\n",
      "_________________________________________________________________\n",
      " Layer (type)                Output Shape              Param #   \n",
      "=================================================================\n",
      " dense (Dense)               (None, 1)                 6         \n",
      "                                                                 \n",
      " dense_1 (Dense)             (None, 1)                 2         \n",
      "                                                                 \n",
      "=================================================================\n",
      "Total params: 8\n",
      "Trainable params: 8\n",
      "Non-trainable params: 0\n",
      "_________________________________________________________________\n"
     ]
    }
   ],
   "source": [
    "model.summary()"
   ]
  },
  {
   "cell_type": "code",
   "execution_count": 14,
   "metadata": {},
   "outputs": [],
   "source": [
    "from keras.utils.vis_utils import plot_model"
   ]
  },
  {
   "cell_type": "code",
   "execution_count": 22,
   "metadata": {},
   "outputs": [
    {
     "name": "stdout",
     "output_type": "stream",
     "text": [
      "('You must install pydot (`pip install pydot`) and install graphviz (see instructions at https://graphviz.gitlab.io/download/) ', 'for plot_model/model_to_dot to work.')\n"
     ]
    }
   ],
   "source": [
    "plot_model(model, to_file= 'model.plot.png', show_shapes= True, show_layer_names= True)"
   ]
  },
  {
   "cell_type": "code",
   "execution_count": 26,
   "metadata": {},
   "outputs": [],
   "source": [
    "model.compile(optimizer='ADAM', loss='MeanSquaredError', metrics=['accuracy'])"
   ]
  },
  {
   "cell_type": "code",
   "execution_count": 29,
   "metadata": {},
   "outputs": [
    {
     "name": "stdout",
     "output_type": "stream",
     "text": [
      "Epoch 1/50\n",
      "274/274 [==============================] - 0s 721us/step - loss: 0.0030 - accuracy: 0.0000e+00\n",
      "Epoch 2/50\n",
      "274/274 [==============================] - 0s 599us/step - loss: 0.0028 - accuracy: 0.0000e+00\n",
      "Epoch 3/50\n",
      "274/274 [==============================] - 0s 595us/step - loss: 0.0026 - accuracy: 0.0000e+00\n",
      "Epoch 4/50\n",
      "274/274 [==============================] - 0s 632us/step - loss: 0.0024 - accuracy: 0.0000e+00\n",
      "Epoch 5/50\n",
      "274/274 [==============================] - 0s 650us/step - loss: 0.0022 - accuracy: 0.0000e+00\n",
      "Epoch 6/50\n",
      "274/274 [==============================] - 0s 679us/step - loss: 0.0021 - accuracy: 0.0000e+00\n",
      "Epoch 7/50\n",
      "274/274 [==============================] - 0s 657us/step - loss: 0.0019 - accuracy: 0.0000e+00\n",
      "Epoch 8/50\n",
      "274/274 [==============================] - 0s 667us/step - loss: 0.0018 - accuracy: 0.0000e+00\n",
      "Epoch 9/50\n",
      "274/274 [==============================] - 0s 692us/step - loss: 0.0017 - accuracy: 0.0000e+00\n",
      "Epoch 10/50\n",
      "274/274 [==============================] - 0s 658us/step - loss: 0.0016 - accuracy: 0.0000e+00\n",
      "Epoch 11/50\n",
      "274/274 [==============================] - 0s 654us/step - loss: 0.0015 - accuracy: 0.0000e+00\n",
      "Epoch 12/50\n",
      "274/274 [==============================] - 0s 658us/step - loss: 0.0014 - accuracy: 0.0000e+00\n",
      "Epoch 13/50\n",
      "274/274 [==============================] - 0s 676us/step - loss: 0.0013 - accuracy: 0.0000e+00\n",
      "Epoch 14/50\n",
      "274/274 [==============================] - 0s 669us/step - loss: 0.0012 - accuracy: 0.0000e+00\n",
      "Epoch 15/50\n",
      "274/274 [==============================] - 0s 664us/step - loss: 0.0012 - accuracy: 0.0000e+00\n",
      "Epoch 16/50\n",
      "274/274 [==============================] - 0s 671us/step - loss: 0.0011 - accuracy: 0.0000e+00\n",
      "Epoch 17/50\n",
      "274/274 [==============================] - 0s 764us/step - loss: 0.0011 - accuracy: 0.0000e+00\n",
      "Epoch 18/50\n",
      "274/274 [==============================] - 0s 769us/step - loss: 0.0010 - accuracy: 0.0000e+00\n",
      "Epoch 19/50\n",
      "274/274 [==============================] - 0s 716us/step - loss: 9.7919e-04 - accuracy: 0.0000e+00\n",
      "Epoch 20/50\n",
      "274/274 [==============================] - 0s 826us/step - loss: 9.3617e-04 - accuracy: 0.0000e+00\n",
      "Epoch 21/50\n",
      "274/274 [==============================] - 0s 694us/step - loss: 9.1395e-04 - accuracy: 0.0000e+00\n",
      "Epoch 22/50\n",
      "274/274 [==============================] - 0s 685us/step - loss: 8.8279e-04 - accuracy: 0.0000e+00\n",
      "Epoch 23/50\n",
      "274/274 [==============================] - 0s 599us/step - loss: 8.5653e-04 - accuracy: 0.0000e+00\n",
      "Epoch 24/50\n",
      "274/274 [==============================] - 0s 672us/step - loss: 8.3798e-04 - accuracy: 0.0000e+00\n",
      "Epoch 25/50\n",
      "274/274 [==============================] - 0s 639us/step - loss: 8.2012e-04 - accuracy: 0.0000e+00\n",
      "Epoch 26/50\n",
      "274/274 [==============================] - 0s 626us/step - loss: 8.0826e-04 - accuracy: 0.0000e+00\n",
      "Epoch 27/50\n",
      "274/274 [==============================] - 0s 665us/step - loss: 7.9072e-04 - accuracy: 0.0000e+00\n",
      "Epoch 28/50\n",
      "274/274 [==============================] - 0s 723us/step - loss: 7.7928e-04 - accuracy: 0.0000e+00\n",
      "Epoch 29/50\n",
      "274/274 [==============================] - 0s 654us/step - loss: 7.6827e-04 - accuracy: 0.0000e+00\n",
      "Epoch 30/50\n",
      "274/274 [==============================] - 0s 636us/step - loss: 7.6186e-04 - accuracy: 0.0000e+00\n",
      "Epoch 31/50\n",
      "274/274 [==============================] - 0s 628us/step - loss: 7.5031e-04 - accuracy: 0.0000e+00\n",
      "Epoch 32/50\n",
      "274/274 [==============================] - 0s 686us/step - loss: 7.4861e-04 - accuracy: 0.0000e+00\n",
      "Epoch 33/50\n",
      "274/274 [==============================] - 0s 631us/step - loss: 7.3622e-04 - accuracy: 0.0000e+00\n",
      "Epoch 34/50\n",
      "274/274 [==============================] - 0s 650us/step - loss: 7.4789e-04 - accuracy: 0.0000e+00\n",
      "Epoch 35/50\n",
      "274/274 [==============================] - 0s 652us/step - loss: 7.3324e-04 - accuracy: 0.0000e+00\n",
      "Epoch 36/50\n",
      "274/274 [==============================] - 0s 756us/step - loss: 7.0505e-04 - accuracy: 0.0000e+00\n",
      "Epoch 37/50\n",
      "274/274 [==============================] - 0s 628us/step - loss: 7.2889e-04 - accuracy: 0.0000e+00\n",
      "Epoch 38/50\n",
      "274/274 [==============================] - 0s 643us/step - loss: 7.2765e-04 - accuracy: 0.0000e+00\n",
      "Epoch 39/50\n",
      "274/274 [==============================] - 0s 632us/step - loss: 7.2878e-04 - accuracy: 0.0000e+00\n",
      "Epoch 40/50\n",
      "274/274 [==============================] - 0s 639us/step - loss: 7.2538e-04 - accuracy: 0.0000e+00\n",
      "Epoch 41/50\n",
      "274/274 [==============================] - 0s 639us/step - loss: 7.1988e-04 - accuracy: 0.0000e+00\n",
      "Epoch 42/50\n",
      "274/274 [==============================] - 0s 646us/step - loss: 7.2905e-04 - accuracy: 0.0000e+00\n",
      "Epoch 43/50\n",
      "274/274 [==============================] - 0s 670us/step - loss: 7.2606e-04 - accuracy: 0.0000e+00\n",
      "Epoch 44/50\n",
      "274/274 [==============================] - 0s 650us/step - loss: 7.1591e-04 - accuracy: 0.0000e+00\n",
      "Epoch 45/50\n",
      "274/274 [==============================] - 0s 647us/step - loss: 7.2368e-04 - accuracy: 0.0000e+00\n",
      "Epoch 46/50\n",
      "274/274 [==============================] - 0s 683us/step - loss: 7.1996e-04 - accuracy: 0.0000e+00\n",
      "Epoch 47/50\n",
      "274/274 [==============================] - 0s 647us/step - loss: 7.1864e-04 - accuracy: 0.0000e+00\n",
      "Epoch 48/50\n",
      "274/274 [==============================] - 0s 669us/step - loss: 7.2082e-04 - accuracy: 0.0000e+00\n",
      "Epoch 49/50\n",
      "274/274 [==============================] - 0s 660us/step - loss: 7.2171e-04 - accuracy: 0.0000e+00\n",
      "Epoch 50/50\n",
      "274/274 [==============================] - 0s 671us/step - loss: 7.1350e-04 - accuracy: 0.0000e+00\n"
     ]
    }
   ],
   "source": [
    "history = model.fit(X_train, y_train, epochs=50, batch_size=2)"
   ]
  },
  {
   "cell_type": "code",
   "execution_count": 30,
   "metadata": {},
   "outputs": [
    {
     "data": {
      "image/png": "[encoded data removed]",
      "text/plain": [
       "<Figure size 640x480 with 1 Axes>"
      ]
     },
     "metadata": {},
     "output_type": "display_data"
    }
   ],
   "source": [
    "plt.plot(history.history['loss'])\n",
    "plt.title('model loss')\n",
    "plt.xlabel('epoch')\n",
    "plt.ylabel('loss')\n",
    "plt.show()"
   ]
  },
  {
   "cell_type": "code",
   "execution_count": 31,
   "metadata": {},
   "outputs": [
    {
     "data": {
      "text/plain": [
       "array([[-0.00399611],\n",
       "       [ 0.05713139],\n",
       "       [ 0.02357377],\n",
       "       [ 0.01999755],\n",
       "       [ 0.00097444],\n",
       "       [-0.00563593],\n",
       "       [ 0.00940509],\n",
       "       [-0.05289927],\n",
       "       [-0.05325008],\n",
       "       [ 0.06552246],\n",
       "       [-0.00574406],\n",
       "       [ 0.04642862],\n",
       "       [-0.04052763],\n",
       "       [ 0.00635194],\n",
       "       [ 0.01996394],\n",
       "       [-0.01175813],\n",
       "       [-0.03364721],\n",
       "       [-0.03507305],\n",
       "       [ 0.02946435],\n",
       "       [-0.00939522],\n",
       "       [-0.03364926],\n",
       "       [-0.02786862],\n",
       "       [ 0.02094607],\n",
       "       [-0.06232   ],\n",
       "       [-0.13097161],\n",
       "       [ 0.08663813],\n",
       "       [ 0.03410008],\n",
       "       [ 0.02736301],\n",
       "       [ 0.03352458],\n",
       "       [ 0.0467776 ],\n",
       "       [-0.009862  ],\n",
       "       [ 0.01130829],\n",
       "       [ 0.02893167],\n",
       "       [-0.01876709],\n",
       "       [ 0.03610934],\n",
       "       [-0.05662094],\n",
       "       [ 0.04889295],\n",
       "       [ 0.00220512],\n",
       "       [-0.08269072],\n",
       "       [ 0.07669026],\n",
       "       [-0.04728919],\n",
       "       [-0.02572323],\n",
       "       [ 0.00908206],\n",
       "       [-0.11756739],\n",
       "       [-0.01790578],\n",
       "       [-0.04252134],\n",
       "       [ 0.01615635],\n",
       "       [ 0.0434545 ],\n",
       "       [ 0.05600283],\n",
       "       [ 0.04116898],\n",
       "       [-0.07693478],\n",
       "       [ 0.0400264 ],\n",
       "       [ 0.07807935],\n",
       "       [ 0.09461062],\n",
       "       [ 0.04065228],\n",
       "       [-0.09579567],\n",
       "       [ 0.02991346],\n",
       "       [ 0.01170618],\n",
       "       [ 0.04837846],\n",
       "       [ 0.01586616],\n",
       "       [ 0.06615511],\n",
       "       [ 0.10572107],\n",
       "       [ 0.0250426 ],\n",
       "       [ 0.04055403],\n",
       "       [-0.068964  ],\n",
       "       [ 0.06248469],\n",
       "       [ 0.03106231],\n",
       "       [ 0.01713661],\n",
       "       [ 0.07769564],\n",
       "       [ 0.00361315],\n",
       "       [-0.04639949],\n",
       "       [ 0.02715727],\n",
       "       [-0.00723707],\n",
       "       [ 0.01253179],\n",
       "       [ 0.00188973],\n",
       "       [-0.07226194],\n",
       "       [ 0.07253613],\n",
       "       [ 0.1098607 ],\n",
       "       [ 0.04171787],\n",
       "       [ 0.02547317],\n",
       "       [ 0.0065649 ],\n",
       "       [-0.01768593],\n",
       "       [ 0.00049235],\n",
       "       [ 0.00613425],\n",
       "       [ 0.07307114],\n",
       "       [ 0.01600166],\n",
       "       [ 0.01854569],\n",
       "       [-0.01092599],\n",
       "       [ 0.10163333],\n",
       "       [ 0.03695542],\n",
       "       [-0.00281919],\n",
       "       [-0.01833431],\n",
       "       [ 0.05155579],\n",
       "       [-0.00668457],\n",
       "       [ 0.03085088],\n",
       "       [ 0.01549767],\n",
       "       [-0.02659172],\n",
       "       [-0.00477753],\n",
       "       [-0.04747159],\n",
       "       [ 0.16178395],\n",
       "       [-0.01344095],\n",
       "       [ 0.04596177],\n",
       "       [-0.02189479],\n",
       "       [-0.00998396],\n",
       "       [ 0.03994273],\n",
       "       [ 0.01101314],\n",
       "       [-0.00581478],\n",
       "       [-0.02230607],\n",
       "       [ 0.03210194],\n",
       "       [-0.00318856],\n",
       "       [ 0.06174044],\n",
       "       [ 0.02622375],\n",
       "       [-0.0046516 ],\n",
       "       [-0.05737081],\n",
       "       [ 0.10285564],\n",
       "       [-0.00727839],\n",
       "       [ 0.03825434],\n",
       "       [ 0.01652451],\n",
       "       [ 0.03422593],\n",
       "       [ 0.01912083],\n",
       "       [ 0.02597259],\n",
       "       [ 0.00203542],\n",
       "       [ 0.05075959],\n",
       "       [ 0.00646245],\n",
       "       [-0.00626652],\n",
       "       [ 0.04251495],\n",
       "       [-0.02831649],\n",
       "       [-0.02346896],\n",
       "       [ 0.21024224],\n",
       "       [ 0.05909126],\n",
       "       [ 0.04813099],\n",
       "       [ 0.02766511],\n",
       "       [ 0.00357247],\n",
       "       [-0.00412099],\n",
       "       [ 0.02263542],\n",
       "       [ 0.02483558],\n",
       "       [ 0.005999  ],\n",
       "       [ 0.00339682],\n",
       "       [-0.02095271],\n",
       "       [ 0.03248919],\n",
       "       [ 0.00513322],\n",
       "       [ 0.01737784],\n",
       "       [-0.03823712],\n",
       "       [ 0.0513905 ],\n",
       "       [-0.03543793],\n",
       "       [-0.21836676],\n",
       "       [-0.01138565],\n",
       "       [-0.00951316],\n",
       "       [-0.00050483],\n",
       "       [ 0.00935494],\n",
       "       [ 0.06479251],\n",
       "       [-0.00231934],\n",
       "       [ 0.0266878 ],\n",
       "       [ 0.00653195],\n",
       "       [ 0.00577994],\n",
       "       [ 0.02994404],\n",
       "       [ 0.02651989],\n",
       "       [-0.03854847],\n",
       "       [ 0.0729949 ],\n",
       "       [ 0.03948066],\n",
       "       [ 0.02518847],\n",
       "       [ 0.00602977],\n",
       "       [ 0.01853695],\n",
       "       [ 0.02477518],\n",
       "       [-0.05879245],\n",
       "       [ 0.02146151],\n",
       "       [-0.00179595],\n",
       "       [ 0.02850203],\n",
       "       [-0.00322326],\n",
       "       [ 0.04816501],\n",
       "       [-0.00692731],\n",
       "       [ 0.06867009],\n",
       "       [-0.06384693],\n",
       "       [ 0.06146102],\n",
       "       [ 0.01917687],\n",
       "       [ 0.02421791],\n",
       "       [ 0.07582838],\n",
       "       [-0.03610161],\n",
       "       [ 0.04697881],\n",
       "       [-0.00211531],\n",
       "       [ 0.00146405],\n",
       "       [-0.0262725 ],\n",
       "       [ 0.06180315]], dtype=float32)"
      ]
     },
     "execution_count": 31,
     "metadata": {},
     "output_type": "execute_result"
    }
   ],
   "source": [
    "model.predict(X_test)"
   ]
  },
  {
   "cell_type": "code",
   "execution_count": 32,
   "metadata": {},
   "outputs": [
    {
     "name": "stdout",
     "output_type": "stream",
     "text": [
      "6/6 [==============================] - 0s 798us/step - loss: 0.0011 - accuracy: 0.0000e+00\n"
     ]
    },
    {
     "data": {
      "text/plain": [
       "[0.0011139421258121729, 0.0]"
      ]
     },
     "execution_count": 32,
     "metadata": {},
     "output_type": "execute_result"
    }
   ],
   "source": [
    "model.evaluate(X_test,y_test)"
   ]
  },
  {
   "cell_type": "code",
   "execution_count": 34,
   "metadata": {},
   "outputs": [
    {
     "data": {
      "text/plain": [
       "Date\n",
       "2020-07-15   -0.007443\n",
       "2020-07-06    0.060816\n",
       "2020-01-15    0.001659\n",
       "2020-02-01    0.019504\n",
       "2021-01-25   -0.048286\n",
       "                ...   \n",
       "2020-11-06    0.098177\n",
       "2020-01-22   -0.008268\n",
       "2021-10-12   -0.014887\n",
       "2021-02-28   -0.030086\n",
       "2020-02-05    0.079152\n",
       "Name: ETH-USD, Length: 183, dtype: float64"
      ]
     },
     "execution_count": 34,
     "metadata": {},
     "output_type": "execute_result"
    }
   ],
   "source": [
    "y_test"
   ]
  },
  {
   "cell_type": "code",
   "execution_count": null,
   "metadata": {},
   "outputs": [],
   "source": []
  }
 ],
 "metadata": {
  "interpreter": {
   "hash": "97ae724bfa85b9b34df7982b8bb8c7216f435b92902d749e4263f71162bea840"
  },
  "kernelspec": {
   "display_name": "Python 3.8.10 64-bit ('base': conda)",
   "language": "python",
   "name": "python3"
  },
  "language_info": {
   "codemirror_mode": {
    "name": "ipython",
    "version": 3
   },
   "file_extension": ".py",
   "mimetype": "text/x-python",
   "name": "python",
   "nbconvert_exporter": "python",
   "pygments_lexer": "ipython3",
   "version": "3.8.10"
  },
  "orig_nbformat": 4
 },
 "nbformat": 4,
 "nbformat_minor": 2
}
